{
 "cells": [
  {
   "cell_type": "markdown",
   "metadata": {},
   "source": [
    "**Extração de Dados**\n",
    "\n",
    "Segue processo de extração de dados. \n",
    "\n",
    "Foi feito o download de todos os microdados referentes aos anos analisados.\n",
    "\n",
    "Cada planilha DM_ALUNO, que contém os dados dos alunos, foi renomeada, acrescentando o ano ao qual se refere. \n",
    "\n",
    "Em seguida, foi gerado um  novo arquivo, como o nome Alunos + ano de referencia.csv\n",
    "\n",
    "Procedimento necessario devido a grandeza dos arquivos originais, variando entre 3 e 5 gigas.\n"
   ]
  },
  {
   "cell_type": "code",
   "execution_count": null,
   "metadata": {},
   "outputs": [],
   "source": [
    "import pandas as pd\n",
    "import numpy as np\n"
   ]
  },
  {
   "cell_type": "code",
   "execution_count": 5,
   "metadata": {},
   "outputs": [],
   "source": [
    "arquivo09 = open(r'DM_ALUNO09.CSV','r')\n",
    "aluno09 = pd.read_csv(arquivo09, delimiter='|', usecols=['CO_IES','NU_IDADE_ALUNO','IN_SEXO_ALUNO','CO_COR_RACA_ALUNO'])\n",
    "aluno09.to_csv('Alunos09.csv')\n",
    "aluno09.columns"
   ]
  },
  {
   "cell_type": "code",
   "execution_count": 2,
   "metadata": {},
   "outputs": [],
   "source": [
    "arquivo10 = open(r'DM_ALUNO10.CSV','r')\n",
    "aluno10 = pd.read_csv(arquivo10, delimiter='|', usecols=['CO_IES','NU_IDADE_ALUNO','IN_SEXO_ALUNO','CO_COR_RACA_ALUNO'])\n",
    "aluno10.to_csv('Alunos10.csv')"
   ]
  },
  {
   "cell_type": "code",
   "execution_count": 3,
   "metadata": {},
   "outputs": [],
   "source": [
    "arquivo12 = open(r'DM_ALUNO12.CSV','r')\n",
    "aluno12 = pd.read_csv(arquivo12, delimiter='|', usecols=['CO_IES','NU_IDADE_ALUNO','IN_SEXO_ALUNO','CO_COR_RACA_ALUNO'])\n",
    "aluno12.to_csv('Alunos12.csv')"
   ]
  },
  {
   "cell_type": "code",
   "execution_count": 2,
   "metadata": {},
   "outputs": [
    {
     "data": {
      "text/plain": [
       "Index(['CO_IES', 'CO_COR_RACA_ALUNO', 'IN_SEXO_ALUNO', 'NU_IDADE_ALUNO'], dtype='object')"
      ]
     },
     "execution_count": 2,
     "metadata": {},
     "output_type": "execute_result"
    }
   ],
   "source": [
    "arquivo14 = open(r'DM_ALUNO14.CSV','r')\n",
    "aluno14 = pd.read_csv(arquivo14, delimiter='|', usecols=['CO_IES','NU_IDADE_ALUNO','IN_SEXO_ALUNO','CO_COR_RACA_ALUNO'])\n",
    "aluno14.to_csv('Alunos14.csv')\n",
    "aluno14.columns"
   ]
  },
  {
   "cell_type": "code",
   "execution_count": 2,
   "metadata": {},
   "outputs": [
    {
     "data": {
      "text/plain": [
       "Index(['CO_IES', 'CO_COR_RACA_ALUNO', 'IN_SEXO_ALUNO', 'NU_IDADE_ALUNO'], dtype='object')"
      ]
     },
     "execution_count": 2,
     "metadata": {},
     "output_type": "execute_result"
    }
   ],
   "source": [
    "arquivo16 = open(r'DM_ALUNO16.CSV','r')\n",
    "aluno16 = pd.read_csv(arquivo16, delimiter='|', usecols=['CO_IES','NU_IDADE_ALUNO','IN_SEXO_ALUNO','CO_COR_RACA_ALUNO'])\n",
    "aluno16.to_csv('Alunos16.csv')\n",
    "aluno16.columns"
   ]
  },
  {
   "cell_type": "code",
   "execution_count": 3,
   "metadata": {},
   "outputs": [
    {
     "data": {
      "text/plain": [
       "Index(['CO_IES', 'TP_COR_RACA', 'TP_SEXO', 'NU_IDADE'], dtype='object')"
      ]
     },
     "execution_count": 3,
     "metadata": {},
     "output_type": "execute_result"
    }
   ],
   "source": [
    "arquivo18 = open(r'DM_ALUNO18.CSV','r')\n",
    "aluno18 = pd.read_csv(arquivo18, delimiter='|', usecols=['CO_IES','NU_IDADE','TP_SEXO','TP_COR_RACA'])\n",
    "aluno18.to_csv('Alunos18.csv')\n",
    "aluno18.columns"
   ]
  }
 ],
 "metadata": {
  "kernelspec": {
   "display_name": "Python 3",
   "language": "python",
   "name": "python3"
  },
  "language_info": {
   "codemirror_mode": {
    "name": "ipython",
    "version": 3
   },
   "file_extension": ".py",
   "mimetype": "text/x-python",
   "name": "python",
   "nbconvert_exporter": "python",
   "pygments_lexer": "ipython3",
   "version": "3.7.1"
  }
 },
 "nbformat": 4,
 "nbformat_minor": 2
}
