{
 "cells": [
  {
   "cell_type": "markdown",
   "metadata": {},
   "source": [
    "# *Quantidade de Alunos por Raça Matriculados no Ensino Superior*\n",
    "\n",
    "**Dados do INEP - Censo da Educação Superior**\n",
    "\n",
    "Link: http://inep.gov.br/microdados\n"
   ]
  },
  {
   "cell_type": "code",
   "execution_count": 1,
   "metadata": {},
   "outputs": [],
   "source": [
    "import pandas as pd\n",
    "import numpy as np\n",
    "import matplotlib.pyplot as plt"
   ]
  },
  {
   "cell_type": "markdown",
   "metadata": {},
   "source": [
    "**Leitura dos arquivos**\n",
    "\n",
    "Os microdados fornecidos pelo INEP podem ser arquivos muito grandes, por isso faremos a leitura apenas das colunas que serão usadas para nossa análise de dados."
   ]
  },
  {
   "cell_type": "code",
   "execution_count": 2,
   "metadata": {},
   "outputs": [],
   "source": [
    "a18 = pd.read_csv(open(r'Alunos18.CSV','r'), usecols=['TP_SEXO','TP_COR_RACA'])\n",
    "a16 = pd.read_csv(open(r'Alunos16.CSV','r'), usecols=['IN_SEXO_ALUNO','CO_COR_RACA_ALUNO'])\n",
    "a14 = pd.read_csv(open(r'Alunos14.CSV','r'), usecols=['IN_SEXO_ALUNO','CO_COR_RACA_ALUNO'])\n",
    "a12 = pd.read_csv(open(r'Alunos12.CSV','r'), usecols=['IN_SEXO_ALUNO','CO_COR_RACA_ALUNO'])\n",
    "a10 = pd.read_csv(open(r'Alunos10.CSV','r'), usecols=['IN_SEXO_ALUNO','CO_COR_RACA_ALUNO'])\n",
    "a09 = pd.read_csv(open(r'Alunos09.CSV','r'), usecols=['IN_SEXO_ALUNO','CO_COR_RACA_ALUNO'])"
   ]
  },
  {
   "cell_type": "code",
   "execution_count": 3,
   "metadata": {},
   "outputs": [],
   "source": [
    "#pmnxx= porcentagem de mulheres negras xx=ano\n",
    "pmn18= ((a18.query('TP_SEXO==\"2\" and TP_COR_RACA==\"2\"')['TP_SEXO'].value_counts())/a18.TP_SEXO.count())*100\n",
    "pmn16= ((a16.query('IN_SEXO_ALUNO==1 and CO_COR_RACA_ALUNO==2')['IN_SEXO_ALUNO'].value_counts())/a16.IN_SEXO_ALUNO.count())*100\n",
    "pmn14= ((a14.query('IN_SEXO_ALUNO==1 and CO_COR_RACA_ALUNO==2')['IN_SEXO_ALUNO'].value_counts())/a14.IN_SEXO_ALUNO.count())*100\n",
    "pmn12= ((a12.query('IN_SEXO_ALUNO==1 and CO_COR_RACA_ALUNO==2')['IN_SEXO_ALUNO'].value_counts())/a12.IN_SEXO_ALUNO.count())*100\n",
    "pmn10= ((a10.query('IN_SEXO_ALUNO==1 and CO_COR_RACA_ALUNO==2')['IN_SEXO_ALUNO'].value_counts())/a10.IN_SEXO_ALUNO.count())*100\n",
    "pmn09= ((a09.query('IN_SEXO_ALUNO==1 and CO_COR_RACA_ALUNO==2')['IN_SEXO_ALUNO'].value_counts())/a09.IN_SEXO_ALUNO.count())*100"
   ]
  },
  {
   "cell_type": "markdown",
   "metadata": {},
   "source": [
    "**Mulheres Negras no Ensino Superior**\n",
    "\n",
    "Aqui fazemos a leitura da porcentagem de mulheres negras no ensino superior de acordo com os anos de 2009, 2010, 2012, 2014, 2016 e 2018."
   ]
  },
  {
   "cell_type": "code",
   "execution_count": 4,
   "metadata": {},
   "outputs": [
    {
     "data": {
      "text/plain": [
       "<BarContainer object of 6 artists>"
      ]
     },
     "execution_count": 4,
     "metadata": {},
     "output_type": "execute_result"
    },
    {
     "data": {
      "image/png": "[encoded data removed]",
      "text/plain": [
       "<Figure size 432x288 with 1 Axes>"
      ]
     },
     "metadata": {
      "needs_background": "light"
     },
     "output_type": "display_data"
    }
   ],
   "source": [
    "plt.title(\"Porcentagem de mulheres negras no ensino superior\")\n",
    "anos= ['2009','2010','2012','2014','2016','2018']\n",
    "pmns= [float(pmn09),float(pmn10),float(pmn12),float(pmn14),float(pmn16),float(pmn18)]\n",
    "plt.bar(anos,pmns,color='black')"
   ]
  },
  {
   "cell_type": "code",
   "execution_count": 5,
   "metadata": {},
   "outputs": [],
   "source": [
    "#pmnxx= porcentagem de homens negros xx=ano\n",
    "phn18= ((a18.query('TP_SEXO==\"1\" and TP_COR_RACA==\"2\"')['TP_SEXO'].value_counts())/a18.TP_SEXO.count())*100\n",
    "phn16= ((a16.query('IN_SEXO_ALUNO==0 and CO_COR_RACA_ALUNO==2')['IN_SEXO_ALUNO'].value_counts())/a16.IN_SEXO_ALUNO.count())*100\n",
    "phn14= ((a14.query('IN_SEXO_ALUNO==0 and CO_COR_RACA_ALUNO==2')['IN_SEXO_ALUNO'].value_counts())/a14.IN_SEXO_ALUNO.count())*100\n",
    "phn12= ((a12.query('IN_SEXO_ALUNO==0 and CO_COR_RACA_ALUNO==2')['IN_SEXO_ALUNO'].value_counts())/a12.IN_SEXO_ALUNO.count())*100\n",
    "phn10= ((a10.query('IN_SEXO_ALUNO==0 and CO_COR_RACA_ALUNO==2')['IN_SEXO_ALUNO'].value_counts())/a10.IN_SEXO_ALUNO.count())*100\n",
    "phn09= ((a09.query('IN_SEXO_ALUNO==0 and CO_COR_RACA_ALUNO==2')['IN_SEXO_ALUNO'].value_counts())/a09.IN_SEXO_ALUNO.count())*100"
   ]
  },
  {
   "cell_type": "markdown",
   "metadata": {},
   "source": [
    "**Homens Negros no Ensino Superior**\n",
    "\n",
    "Aqui fazemos a leitura da porcentagem de homens negros no ensino superior de acordo com os anos de 2009, 2010, 2012, 2014, 2016 e 2018."
   ]
  },
  {
   "cell_type": "code",
   "execution_count": 6,
   "metadata": {},
   "outputs": [
    {
     "data": {
      "text/plain": [
       "<BarContainer object of 6 artists>"
      ]
     },
     "execution_count": 6,
     "metadata": {},
     "output_type": "execute_result"
    },
    {
     "data": {
      "image/png": "[encoded data removed]",
      "text/plain": [
       "<Figure size 432x288 with 1 Axes>"
      ]
     },
     "metadata": {
      "needs_background": "light"
     },
     "output_type": "display_data"
    }
   ],
   "source": [
    "plt.title(\"Porcentagem de homens negros no ensino superior\")\n",
    "anos= ['2009','2010','2012','2014','2016','2018']\n",
    "phns= [float(phn09),float(phn10),float(phn12),float(phn14),float(phn16),float(phn18)]\n",
    "plt.bar(anos,phns,color='black')"
   ]
  },
  {
   "cell_type": "code",
   "execution_count": 7,
   "metadata": {},
   "outputs": [],
   "source": [
    "#pnxx= porcentagem de negros xx=ano\n",
    "pn18= ((a18.query('TP_COR_RACA==\"2\"')['TP_COR_RACA'].value_counts())/a18.TP_SEXO.count())*100\n",
    "pn16= ((a16.query('CO_COR_RACA_ALUNO==2')['CO_COR_RACA_ALUNO'].value_counts())/a16.IN_SEXO_ALUNO.count())*100\n",
    "pn14= ((a14.query('CO_COR_RACA_ALUNO==2')['CO_COR_RACA_ALUNO'].value_counts())/a14.IN_SEXO_ALUNO.count())*100\n",
    "pn12= ((a12.query('CO_COR_RACA_ALUNO==2')['CO_COR_RACA_ALUNO'].value_counts())/a12.IN_SEXO_ALUNO.count())*100\n",
    "pn10= ((a10.query('CO_COR_RACA_ALUNO==2')['CO_COR_RACA_ALUNO'].value_counts())/a10.IN_SEXO_ALUNO.count())*100\n",
    "pn09= ((a09.query('CO_COR_RACA_ALUNO==2')['CO_COR_RACA_ALUNO'].value_counts())/a09.IN_SEXO_ALUNO.count())*100"
   ]
  },
  {
   "cell_type": "markdown",
   "metadata": {},
   "source": [
    "**Negros Cursando o Ensino Superior**\n",
    "\n",
    "Aqui fazemos a leitura da porcentagem de negros no ensino superior de acordo com os anos de 2009, 2010, 2012, 2014, 2016 e 2018."
   ]
  },
  {
   "cell_type": "code",
   "execution_count": 8,
   "metadata": {},
   "outputs": [
    {
     "data": {
      "text/plain": [
       "<BarContainer object of 6 artists>"
      ]
     },
     "execution_count": 8,
     "metadata": {},
     "output_type": "execute_result"
    },
    {
     "data": {
      "image/png": "[encoded data removed]",
      "text/plain": [
       "<Figure size 432x288 with 1 Axes>"
      ]
     },
     "metadata": {
      "needs_background": "light"
     },
     "output_type": "display_data"
    }
   ],
   "source": [
    "plt.title(\"Porcentagem de negros no ensino superior\")\n",
    "anos= ['2009','2010','2012','2014','2016','2018']\n",
    "pns= [float(pn09),float(pn10),float(pn12),float(pn14),float(pn16),float(pn18)]\n",
    "plt.bar(anos,pns,color='black')"
   ]
  },
  {
   "cell_type": "code",
   "execution_count": 9,
   "metadata": {},
   "outputs": [],
   "source": [
    "#pnxx= porcentagem de pardos xx=ano\n",
    "pp18= ((a18.query('TP_COR_RACA==\"3\"')['TP_COR_RACA'].value_counts())/a18.TP_SEXO.count())*100\n",
    "pp16= ((a16.query('CO_COR_RACA_ALUNO==3')['CO_COR_RACA_ALUNO'].value_counts())/a16.IN_SEXO_ALUNO.count())*100\n",
    "pp14= ((a14.query('CO_COR_RACA_ALUNO==3')['CO_COR_RACA_ALUNO'].value_counts())/a14.IN_SEXO_ALUNO.count())*100\n",
    "pp12= ((a12.query('CO_COR_RACA_ALUNO==3')['CO_COR_RACA_ALUNO'].value_counts())/a12.IN_SEXO_ALUNO.count())*100\n",
    "pp10= ((a10.query('CO_COR_RACA_ALUNO==3')['CO_COR_RACA_ALUNO'].value_counts())/a10.IN_SEXO_ALUNO.count())*100\n",
    "pp09= ((a09.query('CO_COR_RACA_ALUNO==3')['CO_COR_RACA_ALUNO'].value_counts())/a09.IN_SEXO_ALUNO.count())*100"
   ]
  },
  {
   "cell_type": "markdown",
   "metadata": {},
   "source": [
    "**Pardos Cursando o Ensino Superior**\n",
    "\n",
    "Aqui fazemos a leitura da porcentagem de alunos declarados como pardos matriculados no ensino superior de acordo com os anos de 2009, 2010, 2012, 2014, 2016 e 2018."
   ]
  },
  {
   "cell_type": "code",
   "execution_count": 10,
   "metadata": {},
   "outputs": [
    {
     "data": {
      "text/plain": [
       "<BarContainer object of 6 artists>"
      ]
     },
     "execution_count": 10,
     "metadata": {},
     "output_type": "execute_result"
    },
    {
     "data": {
      "image/png": "[encoded data removed]",
      "text/plain": [
       "<Figure size 432x288 with 1 Axes>"
      ]
     },
     "metadata": {
      "needs_background": "light"
     },
     "output_type": "display_data"
    }
   ],
   "source": [
    "plt.title(\"Porcentagem de pardos no ensino superior\")\n",
    "anos= ['2009','2010','2012','2014','2016','2018']\n",
    "pps= [float(pp09),float(pp10),float(pp12),float(pp14),float(pp16),float(pp18)]\n",
    "plt.bar(anos,pps,color='gray')"
   ]
  },
  {
   "cell_type": "code",
   "execution_count": 11,
   "metadata": {},
   "outputs": [],
   "source": [
    "#pnxx= porcentagem de brancos xx=ano\n",
    "pb18= ((a18.query('TP_COR_RACA==1')['TP_COR_RACA'].value_counts())/a18.TP_SEXO.count())*100\n",
    "pb16= ((a16.query('CO_COR_RACA_ALUNO==1')['CO_COR_RACA_ALUNO'].value_counts())/a16.IN_SEXO_ALUNO.count())*100\n",
    "pb14= ((a14.query('CO_COR_RACA_ALUNO==1')['CO_COR_RACA_ALUNO'].value_counts())/a14.IN_SEXO_ALUNO.count())*100\n",
    "pb12= ((a12.query('CO_COR_RACA_ALUNO==1')['CO_COR_RACA_ALUNO'].value_counts())/a12.IN_SEXO_ALUNO.count())*100\n",
    "pb10= ((a10.query('CO_COR_RACA_ALUNO==1')['CO_COR_RACA_ALUNO'].value_counts())/a10.IN_SEXO_ALUNO.count())*100\n",
    "pb09= ((a09.query('CO_COR_RACA_ALUNO==1')['CO_COR_RACA_ALUNO'].value_counts())/a09.IN_SEXO_ALUNO.count())*100"
   ]
  },
  {
   "cell_type": "markdown",
   "metadata": {},
   "source": [
    "**Brancos Cursando o Ensino Superior**\n",
    "\n",
    "Aqui fazemos a leitura da porcentagem de brancos no ensino superior de acordo com os anos de 2009, 2010, 2012, 2014, 2016 e 2018."
   ]
  },
  {
   "cell_type": "code",
   "execution_count": 12,
   "metadata": {},
   "outputs": [
    {
     "data": {
      "text/plain": [
       "<BarContainer object of 6 artists>"
      ]
     },
     "execution_count": 12,
     "metadata": {},
     "output_type": "execute_result"
    },
    {
     "data": {
      "image/png": "[encoded data removed]",
      "text/plain": [
       "<Figure size 432x288 with 1 Axes>"
      ]
     },
     "metadata": {
      "needs_background": "light"
     },
     "output_type": "display_data"
    }
   ],
   "source": [
    "plt.title(\"Porcentagem de brancos no ensino superior\")\n",
    "anos= ['2009','2010','2012','2014','2016','2018']\n",
    "pbs= [float(pb09),float(pb10),float(pb12),float(pb14),float(pb16),float(pb18)]\n",
    "plt.bar(anos,pbs,color='#f2dfd3')"
   ]
  },
  {
   "cell_type": "code",
   "execution_count": 13,
   "metadata": {},
   "outputs": [],
   "source": [
    "#pnxx= porcentagem de amarelos xx=ano\n",
    "pa18= ((a18.query('TP_COR_RACA==4')['TP_COR_RACA'].value_counts())/a18.TP_SEXO.count())*100\n",
    "pa16= ((a16.query('CO_COR_RACA_ALUNO==4')['CO_COR_RACA_ALUNO'].value_counts())/a16.IN_SEXO_ALUNO.count())*100\n",
    "pa14= ((a14.query('CO_COR_RACA_ALUNO==4')['CO_COR_RACA_ALUNO'].value_counts())/a14.IN_SEXO_ALUNO.count())*100\n",
    "pa12= ((a12.query('CO_COR_RACA_ALUNO==4')['CO_COR_RACA_ALUNO'].value_counts())/a12.IN_SEXO_ALUNO.count())*100\n",
    "pa10= ((a10.query('CO_COR_RACA_ALUNO==4')['CO_COR_RACA_ALUNO'].value_counts())/a10.IN_SEXO_ALUNO.count())*100\n",
    "pa09= ((a09.query('CO_COR_RACA_ALUNO==4')['CO_COR_RACA_ALUNO'].value_counts())/a09.IN_SEXO_ALUNO.count())*100"
   ]
  },
  {
   "cell_type": "markdown",
   "metadata": {},
   "source": [
    "**Amarelos Cursando o Ensino Superior**\n",
    "\n",
    "Aqui fazemos a leitura da porcentagem de amarelos cursando o ensino superior de acordo com os anos de 2009, 2010, 2012, 2014, 2016 e 2018."
   ]
  },
  {
   "cell_type": "code",
   "execution_count": 14,
   "metadata": {},
   "outputs": [
    {
     "data": {
      "text/plain": [
       "<BarContainer object of 6 artists>"
      ]
     },
     "execution_count": 14,
     "metadata": {},
     "output_type": "execute_result"
    },
    {
     "data": {
      "image/png": "[encoded data removed]",
      "text/plain": [
       "<Figure size 432x288 with 1 Axes>"
      ]
     },
     "metadata": {
      "needs_background": "light"
     },
     "output_type": "display_data"
    }
   ],
   "source": [
    "plt.title(\"Porcentagem de amarelos no ensino superior\")\n",
    "anos= ['2009','2010','2012','2014','2016','2018']\n",
    "pas= [float(pa09),float(pa10),float(pa12),float(pa14),float(pa16),float(pa18)]\n",
    "plt.bar(anos,pas,color='yellow')"
   ]
  },
  {
   "cell_type": "code",
   "execution_count": 15,
   "metadata": {},
   "outputs": [],
   "source": [
    "#pnxx= porcentagem de indigenas xx=ano\n",
    "pi18= ((a18.query('TP_COR_RACA==5')['TP_COR_RACA'].value_counts())/a18.TP_SEXO.count())*100\n",
    "pi16= ((a16.query('CO_COR_RACA_ALUNO==5')['CO_COR_RACA_ALUNO'].value_counts())/a16.IN_SEXO_ALUNO.count())*100\n",
    "pi14= ((a14.query('CO_COR_RACA_ALUNO==5')['CO_COR_RACA_ALUNO'].value_counts())/a14.IN_SEXO_ALUNO.count())*100\n",
    "pi12= ((a12.query('CO_COR_RACA_ALUNO==5')['CO_COR_RACA_ALUNO'].value_counts())/a12.IN_SEXO_ALUNO.count())*100\n",
    "pi10= ((a10.query('CO_COR_RACA_ALUNO==5')['CO_COR_RACA_ALUNO'].value_counts())/a10.IN_SEXO_ALUNO.count())*100\n",
    "pi09= ((a09.query('CO_COR_RACA_ALUNO==5')['CO_COR_RACA_ALUNO'].value_counts())/a09.IN_SEXO_ALUNO.count())*100"
   ]
  },
  {
   "cell_type": "markdown",
   "metadata": {},
   "source": [
    "**Indígenas Cursando o Ensino Superior**\n",
    "\n",
    "Aqui fazemos a leitura da porcentagem de alunos declarados como indígenas cursando o ensino superior de acordo com os anos de 2009, 2010, 2012, 2014, 2016 e 2018."
   ]
  },
  {
   "cell_type": "code",
   "execution_count": 16,
   "metadata": {},
   "outputs": [
    {
     "data": {
      "text/plain": [
       "<BarContainer object of 6 artists>"
      ]
     },
     "execution_count": 16,
     "metadata": {},
     "output_type": "execute_result"
    },
    {
     "data": {
      "image/png": "[encoded data removed]",
      "text/plain": [
       "<Figure size 432x288 with 1 Axes>"
      ]
     },
     "metadata": {
      "needs_background": "light"
     },
     "output_type": "display_data"
    }
   ],
   "source": [
    "plt.title(\"Porcentagem de indigenas no ensino superior\")\n",
    "anos= ['2009','2010','2012','2014','2016','2018']\n",
    "pis= [float(pi09),float(pi10),float(pi12),float(pi14),float(pi16),float(pi18)]\n",
    "plt.bar(anos,pis,color='#CC8227')"
   ]
  },
  {
   "cell_type": "code",
   "execution_count": 17,
   "metadata": {},
   "outputs": [],
   "source": [
    "#pnxx= porcentagem de não informado e não declarados xx=ano\n",
    "pni18= ((a18.query('TP_COR_RACA==9')['TP_COR_RACA'].value_counts())/a18.TP_SEXO.count())*100\n",
    "pni16= ((a16.query('CO_COR_RACA_ALUNO==6')['CO_COR_RACA_ALUNO'].value_counts())/a16.IN_SEXO_ALUNO.count())*100\n",
    "pni14= ((a14.query('CO_COR_RACA_ALUNO==6')['CO_COR_RACA_ALUNO'].value_counts())/a14.IN_SEXO_ALUNO.count())*100\n",
    "pni12= ((a12.query('CO_COR_RACA_ALUNO==6')['CO_COR_RACA_ALUNO'].value_counts())/a12.IN_SEXO_ALUNO.count())*100\n",
    "pni10= ((a10.query('CO_COR_RACA_ALUNO==6')['CO_COR_RACA_ALUNO'].value_counts())/a10.IN_SEXO_ALUNO.count())*100\n",
    "pni09= ((a09.query('CO_COR_RACA_ALUNO==6')['CO_COR_RACA_ALUNO'].value_counts())/a09.IN_SEXO_ALUNO.count())*100\n",
    "\n",
    "pnd18= ((a18.query('TP_COR_RACA==0')['TP_COR_RACA'].value_counts())/a18.TP_SEXO.count())*100\n",
    "pnd16= ((a16.query('CO_COR_RACA_ALUNO==0')['CO_COR_RACA_ALUNO'].value_counts())/a16.IN_SEXO_ALUNO.count())*100\n",
    "pnd14= ((a14.query('CO_COR_RACA_ALUNO==0')['CO_COR_RACA_ALUNO'].value_counts())/a14.IN_SEXO_ALUNO.count())*100\n",
    "pnd12= ((a12.query('CO_COR_RACA_ALUNO==0')['CO_COR_RACA_ALUNO'].value_counts())/a12.IN_SEXO_ALUNO.count())*100\n",
    "pnd10= ((a10.query('CO_COR_RACA_ALUNO==0')['CO_COR_RACA_ALUNO'].value_counts())/a10.IN_SEXO_ALUNO.count())*100\n",
    "pnd09= ((a09.query('CO_COR_RACA_ALUNO==0')['CO_COR_RACA_ALUNO'].value_counts())/a09.IN_SEXO_ALUNO.count())*100\n",
    "\n",
    "pnind18=sum(pni18,pnd18)\n",
    "pnind16=sum(pni16,pnd16)\n",
    "pnind14=sum(pni14,pnd14)\n",
    "pnind12=sum(pni12,pnd12)\n",
    "pnind10=sum(pni10,pnd10)\n",
    "pnind09=sum(pni09,pnd09)"
   ]
  },
  {
   "cell_type": "markdown",
   "metadata": {},
   "source": [
    "**Não informados e Não declarados no Ensino Superior**\n",
    "\n",
    "Aqui fazemos a leitura da porcentagem de alunos matriculados no ensino superior que informaram e não declararam a qual raça pertencia de acordo com os anos de 2009, 2010, 2012, 2014, 2016 e 2018."
   ]
  },
  {
   "cell_type": "code",
   "execution_count": 18,
   "metadata": {},
   "outputs": [
    {
     "data": {
      "text/plain": [
       "<BarContainer object of 6 artists>"
      ]
     },
     "execution_count": 18,
     "metadata": {},
     "output_type": "execute_result"
    },
    {
     "data": {
      "image/png": "[encoded data removed]",
      "text/plain": [
       "<Figure size 432x288 with 1 Axes>"
      ]
     },
     "metadata": {
      "needs_background": "light"
     },
     "output_type": "display_data"
    }
   ],
   "source": [
    "plt.title(\"Porcentagem de não informado e não declarados no ensino superior\")\n",
    "anos= ['2009','2010','2012','2014','2016','2018']\n",
    "pninds= [float(pnind09),float(pnind10),float(pnind12),float(pnind14),float(pnind16),float(pnind18)]\n",
    "plt.bar(anos,pninds,color='green')"
   ]
  },
  {
   "cell_type": "markdown",
   "metadata": {},
   "source": [
    "*Observação:* Note que o número de alunos que não se declaravam sendo de nenhuma raça foi diminuindo com o passar dos anos"
   ]
  },
  {
   "cell_type": "markdown",
   "metadata": {},
   "source": [
    "**Comparando a quantidade de alunos matriculados no ensino superior  de diferentes raças**\n",
    "\n",
    "Aqui fazemos a comparação entre os alunos no ensino superior que se declararam sendo negros, ou pardos, ou brancos,  ou amarelos ou indígenas nos anos de 2009, 2010, 2012, 2014, 2016 e 2018."
   ]
  },
  {
   "cell_type": "code",
   "execution_count": 19,
   "metadata": {},
   "outputs": [
    {
     "data": {
      "image/png": "[encoded data removed]",
      "text/plain": [
       "<Figure size 1440x576 with 1 Axes>"
      ]
     },
     "metadata": {
      "needs_background": "light"
     },
     "output_type": "display_data"
    }
   ],
   "source": [
    "barWidth = 0.15\n",
    "\n",
    "# Aumentando o gráfico\n",
    "plt.figure(figsize=(20,8))\n",
    "\n",
    "r1=np.arange(len(pns))\n",
    "r2=[x+barWidth for x in r1]\n",
    "r3=[x+barWidth for x in r2]\n",
    "r4=[x+barWidth for x in r3]\n",
    "r5=[x+barWidth for x in r4]\n",
    "plt.bar(r1, pns, color='black',width=barWidth,label='NEGROS')\n",
    "plt.bar(r2, pps, color='gray',width=barWidth,label='PARDOS')\n",
    "plt.bar(r3, pbs, color='#f2dfd3',width=barWidth,label='BRANCOS')\n",
    "plt.bar(r4, pas, color='yellow',width=barWidth,label='AMARELOS')\n",
    "plt.bar(r5, pis, color='#CC8227',width=barWidth,label='INDIGENAS')\n",
    "plt.xticks([r+barWidth for r in range(len(pns))],anos)\n",
    "plt.title('Comparativo entre os declarados')\n",
    "plt.legend()\n",
    "plt.show()\n"
   ]
  },
  {
   "cell_type": "markdown",
   "metadata": {},
   "source": [
    "*Observação:* Um fato curioso, é de que com o passar dos anos o número de alunos declarados sendo pertencentes a alguma raça foi aumentando, sendo assim na mesma proporção o número de alunos na qual não se declaravam foi diminuindo como visto anteriormente no gráfico  de **Não informados e Não declarados no Ensino Superior**."
   ]
  },
  {
   "cell_type": "code",
   "execution_count": null,
   "metadata": {},
   "outputs": [],
   "source": []
  }
 ],
 "metadata": {
  "kernelspec": {
   "display_name": "Python 3",
   "language": "python",
   "name": "python3"
  },
  "language_info": {
   "codemirror_mode": {
    "name": "ipython",
    "version": 3
   },
   "file_extension": ".py",
   "mimetype": "text/x-python",
   "name": "python",
   "nbconvert_exporter": "python",
   "pygments_lexer": "ipython3",
   "version": "3.7.1"
  }
 },
 "nbformat": 4,
 "nbformat_minor": 2
}
